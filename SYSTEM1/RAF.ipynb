{
 "cells": [
  {
   "cell_type": "markdown",
   "metadata": {},
   "source": [
    "## Download all the necessary libraries"
   ]
  },
  {
   "cell_type": "code",
   "execution_count": null,
   "metadata": {},
   "outputs": [],
   "source": [
    "import pandas as pd\n",
    "import numpy as np\n",
    "import easygui\n",
    "import sys\n",
    "import logging\n",
    "from docx import Document\n",
    "from docxtpl import DocxTemplate\n",
    "from docx.shared import Cm, Inches, Pt\n",
    "from docx.enum.table import WD_TABLE_ALIGNMENT, WD_ALIGN_VERTICAL\n",
    "from docx.enum.text import WD_PARAGRAPH_ALIGNMENT\n",
    "from docx.enum.style import WD_STYLE_TYPE\n",
    "from docx.oxml import OxmlElement\n",
    "from docx.oxml.ns import qn\n",
    "import lxml.etree\n",
    "import os\n",
    "import re\n",
    "from pdf2image import convert_from_path\n",
    "import decimal\n",
    "import datetime\n",
    "import time\n",
    "from time import strptime\n",
    "from pandas import Timestamp\n",
    "from meteostat import Point, Daily\n",
    "import shutil\n",
    "import beepy as beep\n",
    "import ctypes\n",
    "import win32com.client\n",
    "os.environ['PYGAME_HIDE_SUPPORT_PROMPT'] = \"hide\"\n",
    "from pygame import mixer"
   ]
  },
  {
   "cell_type": "code",
   "execution_count": null,
   "metadata": {},
   "outputs": [],
   "source": [
    "# from IPython.core.display import display, HTML\n",
    "# display(HTML(\"<style>.container { width:100% !important; }</style>\"))\n",
    "import warnings\n",
    "warnings.simplefilter(action='ignore', category=FutureWarning)\n",
    "pd.options.mode.chained_assignment = None  # default='warn'\n",
    "pd.options.display.float_format = \"{:,.2f}\".format\n",
    "logger = logging.getLogger('ftpuploader')"
   ]
  },
  {
   "cell_type": "code",
   "execution_count": null,
   "metadata": {},
   "outputs": [],
   "source": [
    "# Create function for sounds making\n",
    "def beep(sound):\n",
    "    mixer.init() \n",
    "    sound=mixer.Sound(os.getcwd() + '/SYSTEM/Sounds/{}.wav'.format(sound))\n",
    "    sound.play()"
   ]
  },
  {
   "cell_type": "code",
   "execution_count": null,
   "metadata": {},
   "outputs": [],
   "source": []
  },
  {
   "cell_type": "markdown",
   "metadata": {},
   "source": [
    "## Download and preprocess source files"
   ]
  },
  {
   "cell_type": "code",
   "execution_count": null,
   "metadata": {},
   "outputs": [],
   "source": [
    "print('Uploading file \"Estimate\"...')"
   ]
  },
  {
   "cell_type": "code",
   "execution_count": null,
   "metadata": {},
   "outputs": [],
   "source": [
    "# Define the folder to work with\n",
    " # Add sound\n",
    "beep(2)\n",
    "fn = 'Work ' + easygui.buttonbox('Choose the Work folder', 'Attention!!!', ('1', '2', '3'))"
   ]
  },
  {
   "cell_type": "code",
   "execution_count": null,
   "metadata": {
    "scrolled": false
   },
   "outputs": [],
   "source": [
    "try:\n",
    "    # Initially define Smeta file name and script status\n",
    "    smeta = 'Estimate'\n",
    "    scrp = 'creation'\n",
    "    # Search for Smeta files\n",
    "    for smeta_file in os.listdir(os.getcwd() + '/{}'.format(fn)):\n",
    "        if smeta_file.startswith('Estimate') and os.path.splitext(smeta_file)[0][-1].isdigit()==True:\n",
    "            smeta = os.path.splitext(smeta_file)[0]\n",
    "            scrp = 'correction'  \n",
    "    \n",
    "    # Check if the file is closed\n",
    "    agfile = 'open'\n",
    "    while agfile == 'open':\n",
    "        try: \n",
    "            os.rename(os.getcwd() + '/{}/{}.xlsx'.format(fn, smeta), os.getcwd() + '/{}/Estimate OCcheck.xlsx'.format(fn))\n",
    "            os.rename(os.getcwd() + '/{}/Estimate OCcheck.xlsx'.format(fn), os.getcwd() + '/{}/{}.xlsx'.format(fn, smeta))\n",
    "            agfile = 'closed'\n",
    "        except BaseException  as e:\n",
    "            beep(4)\n",
    "            easygui.msgbox('Close file \"Estimate\": \\n' + str(e), title='Error!')\n",
    "    \n",
    "    # Read Agreement table\n",
    "    ag = pd.read_excel(os.getcwd() + '/{}/{}.xlsx'.format(fn, smeta), sheet_name='Договор', usecols=[0, 1, 4], nrows=18)\n",
    "    \n",
    "    # Change research end's date format from Timestamp to Str\n",
    "    if type(ag['Значение'].loc[3]) is datetime.datetime:\n",
    "       ag['Значение'].loc[3] = datetime.datetime.strftime(ag['Значение'].loc[3], '%d.%m.%Y')\n",
    "    \n",
    "    # What if it is standard form\n",
    "    if ag['Unnamed: 4'][3] == 'Стандартная':\n",
    "        # Read Agreement Data table if it is exist\n",
    "        for file in os.listdir(os.getcwd() + '/{}'.format(fn)):\n",
    "            if file.startswith('Contract_data'):\n",
    "                ad = pd.read_excel(os.getcwd() + '/{}/{}'.format(fn, file))\n",
    "                # Replace ag parameters with ad\n",
    "                ag['Значение'].loc[0] = ad['Значение'].loc[1]\n",
    "                ag['Значение'].loc[1] = ad['Значение'].loc[2]\n",
    "                ag['Значение'].loc[2] = ad['Значение'].loc[3]\n",
    "                ag['Значение'].loc[3] = ad['Значение'].loc[4]\n",
    "                ag['Значение'].loc[4] = ad['Значение'].loc[7]\n",
    "                ag['Значение'].loc[7] = ad['Значение'].loc[9]\n",
    "        # Define interesant\n",
    "        interesant = ''\n",
    "    # What if it is not standard form\n",
    "    else:\n",
    "        ag['Значение'].loc[4] = ag['Значение'].loc[5]\n",
    "        ag['Значение'].loc[7] = 'ИП Трубников Алексей Владимирович'\n",
    "        # Define interesant\n",
    "        interesant = '(в интересах ' + ag['Значение'].loc[8] +')'\n",
    "        \n",
    "    # Create outside temperature variable\n",
    "    ostemp = ag['Значение'].loc[15]\n",
    "        \n",
    "except BaseException  as e:\n",
    "    beep(4)\n",
    "    easygui.msgbox('Failed to upload tab \"Договор\": \\n' + str(e), title='Error!')\n",
    "    logger.error(str(e))\n",
    "    sys.exit()"
   ]
  },
  {
   "cell_type": "code",
   "execution_count": null,
   "metadata": {},
   "outputs": [],
   "source": []
  },
  {
   "cell_type": "code",
   "execution_count": null,
   "metadata": {
    "scrolled": true
   },
   "outputs": [],
   "source": [
    "try:\n",
    "    # Read Teplovisor table\n",
    "    tv = pd.read_excel(os.getcwd() + '/{}/{}.xlsx'.format(fn, smeta), sheet_name='Тепловизор', usecols=[0, 1, 2, 3, 4])\n",
    "    # Round the last column\n",
    "    tv['Отклонение температуры, °С'] = tv['Отклонение температуры, °С'].round(1)\n",
    "    # Delete NaNs\n",
    "    tv = tv.dropna()\n",
    "    # Round to 0 decimals\n",
    "    tv[tv.columns[1]] = tv[tv.columns[1]].values.astype(np.int64)\n",
    "    # Convert data to str format\n",
    "    tv = tv.astype(str)\n",
    "    \n",
    "except BaseException  as e:\n",
    "    beep(4)\n",
    "    easygui.msgbox('Failed to upload tab \"Тепловизор\": \\n' + str(e), title='Error!')\n",
    "    logger.error(str(e))\n",
    "    sys.exit()"
   ]
  },
  {
   "cell_type": "code",
   "execution_count": null,
   "metadata": {},
   "outputs": [],
   "source": []
  },
  {
   "cell_type": "code",
   "execution_count": null,
   "metadata": {},
   "outputs": [],
   "source": [
    "try:\n",
    "    # Read Defects table\n",
    "    sd = pd.read_excel(os.getcwd() + '/{}/{}.xlsx'.format(fn, smeta), sheet_name='Перечень дефектов', usecols=[0, 1, 2, 3])\n",
    "    # Delete unnecessary NaNs\n",
    "    # Delete rows wo foto\n",
    "    for i in range(len(sd)):\n",
    "        if pd.isna(sd['Фото'].loc[i]) == True and pd.isna(sd['№ п/п'].loc[i]) == False:\n",
    "            sd.drop(index = i, inplace = True)\n",
    "    sd = sd.reset_index(drop=True)\n",
    "    # Delete subtitle rows wo content\n",
    "    for i in range(1, len(sd)):\n",
    "        if pd.isna(sd['№ п/п'].loc[i-1]) == True and pd.isna(sd['№ п/п'].loc[i]) == True:\n",
    "            sd.drop(index = i-1, inplace = True)\n",
    "    sd = sd.reset_index(drop=True)        \n",
    "    # Delete the last row wo content\n",
    "    if pd.isna(sd['№ п/п'].loc[len(sd)-1]) == True:\n",
    "        sd.drop(index = len(sd)-1, inplace = True)\n",
    "    # Replace ''№ п/п' with string simbol to delete decimals\n",
    "    for i in range(len(sd)):\n",
    "        if pd.isna(sd['№ п/п'].loc[i]) == False:\n",
    "            sd['№ п/п'].loc[i] = 'a'\n",
    "    # Renumerate rows within the table\n",
    "    for i in range(1, len(sd)):\n",
    "        if pd.isna(sd['№ п/п'].loc[i-1]) == True and pd.isna(sd['№ п/п'].loc[i]) == False:\n",
    "            sd['№ п/п'].loc[i] = 1\n",
    "        if pd.isna(sd['№ п/п'].loc[i-1]) == False and pd.isna(sd['№ п/п'].loc[i]) == False:\n",
    "            sd['№ п/п'].loc[i] = int(sd['№ п/п'].loc[i-1]+1)\n",
    "    # Replace NaNs with blanks\n",
    "    sd.fillna('', inplace=True)\n",
    "    # Make photos numbers readable \n",
    "    for i in range(len(sd)):\n",
    "        sd['Фото'][i] = re.sub('/$', 'мм)', str(sd['Фото'][i]))\n",
    "        sd['Фото'][i] = str(sd['Фото'][i]).replace('/+', 'мм)\\n').replace('/', '(').replace('+', '\\n')\n",
    "\n",
    "except BaseException  as e:\n",
    "    beep(4)\n",
    "    easygui.msgbox('Failed to upload tab \"Дефекты\": \\n' + str(e), title='Error!')\n",
    "    logger.error(str(e))\n",
    "    sys.exit()"
   ]
  },
  {
   "cell_type": "code",
   "execution_count": null,
   "metadata": {},
   "outputs": [],
   "source": []
  },
  {
   "cell_type": "code",
   "execution_count": null,
   "metadata": {
    "scrolled": false
   },
   "outputs": [],
   "source": [
    "try:\n",
    "    # Read Vedomost table\n",
    "    dv = pd.read_excel(os.getcwd() + '/{}/{}.xlsx'.format(fn, smeta), sheet_name='Дефектная ведомость')\n",
    "    # Delete last 7 columns\n",
    "    dv = dv.iloc[:, :-7]\n",
    "    # Replace NaNs with blanks\n",
    "    dv.fillna('', inplace=True)\n",
    "\n",
    "    # Delete unnecessary NaNs and 0's\n",
    "    # Delete 0's\n",
    "    for i in range(len(dv)):\n",
    "        if dv['Всего'].loc[i] == 0:\n",
    "            dv.drop(index = i, inplace = True)\n",
    "    dv = dv.reset_index(drop=True)\n",
    "    # Delete last 2 rows with NaNs\n",
    "    dv.drop(dv.tail(2).index,  inplace = True)\n",
    "    # Renumerate rows within the table\n",
    "    dv['№ п/п'] = dv.index\n",
    "\n",
    "    # Round it\n",
    "    for column in dv.columns[3:]:\n",
    "        for i in range(1, len(dv)):\n",
    "            # Replace 0 with ''\n",
    "            if  dv[column].loc[i] == 0:\n",
    "                dv[column].loc[i] = ''\n",
    "            if  dv[column].loc[i] != '' and dv['Ед. изм.'].loc[i] in ['м', 'м2']:\n",
    "                # Round to 2 decimals\n",
    "                dv[column].loc[i] = round(dv[column].loc[i], 2)\n",
    "            elif dv[column].loc[i] != '':\n",
    "                # Round to 0 decimals\n",
    "                dv[column].loc[i] = int(dv[column].loc[i])\n",
    "\n",
    "except BaseException  as e:\n",
    "    beep(4)\n",
    "    easygui.msgbox('Failed to upload tab \"Ведомость\": \\n' + str(e), title='Error!')\n",
    "    logger.error(str(e))\n",
    "    sys.exit()"
   ]
  },
  {
   "cell_type": "code",
   "execution_count": null,
   "metadata": {},
   "outputs": [],
   "source": []
  },
  {
   "cell_type": "code",
   "execution_count": null,
   "metadata": {},
   "outputs": [],
   "source": [
    "try:\n",
    "    # Read Prices and Contractors tables\n",
    "    pr = pd.read_excel(os.getcwd() + '/{}/{}.xlsx'.format(fn, smeta), usecols = [0,1,2,3,4,5,6,7,8,9], sheet_name='Расчеты')\n",
    "    # Find where to end\n",
    "    end = pr[pr['Наименование работ и материалов'] == 'Итого работы и материалы'].index[0] + 1\n",
    "    # Read Prices table\n",
    "    pr = pd.read_excel(os.getcwd() + '/{}/{}.xlsx'.format(fn, smeta), nrows = end, usecols = [0,1,2,3,4,5,6,7,8,9], sheet_name='Расчеты')\n",
    "    # Delete 0's\n",
    "    for i in range(len(pr)):\n",
    "        if pr['Общая стоимость, руб.'].loc[i] == 0:\n",
    "            pr.drop(index = i, inplace = True)\n",
    "    pr = pr.reset_index(drop=True)\n",
    "    # Renumerate rows within the table\n",
    "    pr['№ п/п'].loc[1] = 1\n",
    "    for i in range(2, len(pr)):\n",
    "        if pd.isna(pr['№ п/п'].loc[i-1]) == True and pd.isna(pr['№ п/п'].loc[i]) == False:\n",
    "            pr['№ п/п'].loc[i] = 1\n",
    "        if pd.isna(pr['№ п/п'].loc[i-1]) == False and pd.isna(pr['№ п/п'].loc[i]) == False:\n",
    "            pr['№ п/п'].loc[i] = int(pr['№ п/п'].loc[i-1]+1)\n",
    "    # Replace the rest NaNs with blanks\n",
    "    pr.fillna('', inplace=True)\n",
    "    # Round to 2 decimals\n",
    "    for column in pr.columns[3:10]:\n",
    "        for i in range(1, len(pr)):\n",
    "            if pr[column].loc[i] != '':\n",
    "                pr[column].loc[i] = round(pr[column].loc[i], 2)\n",
    "    # Round to 0 decimals\n",
    "     # Prices\n",
    "    for column in pr.columns[4:8]:\n",
    "        for i in range(0, len(pr)):\n",
    "            if pr[column].loc[i] != '':\n",
    "                pr[column].loc[i] = int(pr[column].loc[i])\n",
    "     # Quantities and Numeration\n",
    "    for i in range(1, len(pr)):\n",
    "        if  pr['Ед. изм.'].loc[i] != '' and pr['Ед. изм.'].loc[i] not in ['м', 'м2']:\n",
    "            pr['Кол-во'].loc[i] = int(pr['Кол-во'].loc[i])\n",
    "        if  pr['№ п/п'].loc[i] != '':\n",
    "            pr['№ п/п'].loc[i] = int(pr['№ п/п'].loc[i])\n",
    "\n",
    "except BaseException  as e:\n",
    "    beep(4)\n",
    "    easygui.msgbox('Failed to upload tab \"Стоимость\": \\n' + str(e), title='Error!')\n",
    "    logger.error(str(e))\n",
    "    sys.exit()"
   ]
  },
  {
   "cell_type": "code",
   "execution_count": null,
   "metadata": {},
   "outputs": [],
   "source": []
  },
  {
   "cell_type": "code",
   "execution_count": null,
   "metadata": {
    "scrolled": false
   },
   "outputs": [],
   "source": [
    "try:\n",
    "    # Read Windows table\n",
    "    wn = pd.read_excel(os.getcwd() + '/{}/{}.xlsx'.format(fn, smeta), usecols = [0,1,2,3,4,5,6,7], sheet_name='Окна')\n",
    "    # Delete last 2 rows with NaNs\n",
    "    wn.drop(wn.tail(2).index,  inplace = True)\n",
    "    # Check if there are standard windows\n",
    "    standwind = wn['Кол-во'].loc[1]\n",
    "    # Delete 0's\n",
    "    for i in range(len(wn)):\n",
    "        if wn['Общая стоимость, руб.'].loc[i] == 0:\n",
    "            wn.drop(index = i, inplace = True)\n",
    "    wn = wn.reset_index(drop=True)\n",
    "    # Renumerate rows within the tablee\n",
    "    wn['№ п/п'].loc[1] = 1\n",
    "    for i in range(2, len(wn)-1):\n",
    "        wn['№ п/п'].loc[i] = int(wn['№ п/п'].loc[i-1]+1)\n",
    "    # Replace the rest NaNs with blanks\n",
    "    wn.fillna('', inplace=True)    \n",
    "    # Round to 2 decimals\n",
    "    for column in wn.columns[[3, 6, 7]]:\n",
    "        for i in range(1, len(wn)):\n",
    "            if wn[column].loc[i] != '':\n",
    "                wn[column].loc[i] = round(wn[column].loc[i], 2)\n",
    "    # Round to 0 decimals\n",
    "     # Prices\n",
    "    for column in wn.columns[4:6]:\n",
    "        for i in range(0, len(wn)-1):\n",
    "            wn[column].loc[i] = int(wn[column].loc[i])\n",
    "     # Quantities and Numeration \n",
    "    for i in range(1, len(wn)-1):\n",
    "        if  wn['Ед. изм.'].loc[i] == 'шт.':\n",
    "            wn['Кол-во'].loc[i] = int(wn['Кол-во'].loc[i])\n",
    "        wn['№ п/п'].loc[i] = int(wn['№ п/п'].loc[i])\n",
    "\n",
    "except BaseException  as e:\n",
    "    beep(4)\n",
    "    easygui.msgbox('Failed to upload tab \"Окна\": \\n' + str(e), title='Error!')\n",
    "    logger.error(str(e))\n",
    "    sys.exit()"
   ]
  },
  {
   "cell_type": "code",
   "execution_count": null,
   "metadata": {},
   "outputs": [],
   "source": []
  },
  {
   "cell_type": "code",
   "execution_count": null,
   "metadata": {},
   "outputs": [],
   "source": [
    "try:\n",
    "    # Read Ceiling table\n",
    "    cl = pd.read_excel(os.getcwd() + '/{}/{}.xlsx'.format(fn, smeta), usecols = [0,1,2,3,4,5,6,7,8], sheet_name='Потолок')\n",
    "#     # Drop the last two rows\n",
    "#     cl.drop(cl.tail(2).index, inplace = True)\n",
    "    # Delete 0's\n",
    "    for i in range(len(cl)):\n",
    "        if cl['Общая стоимость, руб.'].loc[i] == 0:\n",
    "            cl.drop(index = i, inplace = True)\n",
    "    cl = cl.reset_index(drop=True)\n",
    "    # Renumerate rows within the tablee\n",
    "    cl['№ п/п'].loc[1] = 1\n",
    "    for i in range(2, len(cl)-1):\n",
    "        cl['№ п/п'].loc[i] = int(cl['№ п/п'].loc[i-1]+1)\n",
    "    # Replace the rest NaNs with blanks\n",
    "    cl.fillna('', inplace=True) \n",
    "    # Round to 2 decimals\n",
    "    for column in cl.columns[[3, 7, 8]]:\n",
    "        for i in range(1, len(cl)):\n",
    "            if cl[column].loc[i] != '':\n",
    "                cl[column].loc[i] = round(cl[column].loc[i], 2)\n",
    "    # Round to 0 decimals\n",
    "     # Prices\n",
    "    for column in cl.columns[4:7]:\n",
    "        for i in range(0, len(cl)-1):\n",
    "            cl[column].loc[i] = int(cl[column].loc[i])\n",
    "     # Quantities and Numeration\n",
    "    for i in range(1, len(cl)-1):\n",
    "        if  cl['Ед. изм.'].loc[i] == 'шт.':\n",
    "            cl['Кол-во'].loc[i] = int(cl['Кол-во'].loc[i])\n",
    "        cl['№ п/п'].loc[i] = int(cl['№ п/п'].loc[i])\n",
    "\n",
    "except BaseException  as e:\n",
    "    beep(4)\n",
    "    easygui.msgbox('Failed to upload tab \"Потолок\": \\n' + str(e), title='Error!')\n",
    "    logger.error(str(e))\n",
    "    sys.exit()"
   ]
  },
  {
   "cell_type": "code",
   "execution_count": null,
   "metadata": {},
   "outputs": [],
   "source": []
  },
  {
   "cell_type": "code",
   "execution_count": null,
   "metadata": {},
   "outputs": [],
   "source": [
    "try:\n",
    "    # Read Contractors table\n",
    "    cn = pd.read_excel(os.getcwd() + '/{}/{}.xlsx'.format(fn, smeta), sheet_name='Ресурсы')\n",
    "\n",
    "    # What if there are no windows job\n",
    "    if wn.shape[0]==1:\n",
    "        # Delete windows contractors\n",
    "        cn.drop(index = [4, 5], inplace = True)\n",
    "\n",
    "    # What if there are no ceiling job\n",
    "    if cl.shape[0]==1:\n",
    "        # Delete ceiling contractors\n",
    "        cn.drop(index = [6, 7, 8], inplace = True)\n",
    "\n",
    "    # Reset index\n",
    "    cn = cn.reset_index(drop=True)\n",
    "    # Renumerate rows within the table\n",
    "    cn['№'] = cn.index + 1   \n",
    "\n",
    "    # Create dataframe to make contracrtors Table from it\n",
    "    cnt = cn.drop('Наименование ресурса', 1)\n",
    "\n",
    "    # Create dataframe to make contracrtors Listliketable from it\n",
    "    cnl = pd.DataFrame(columns=['№', 'Name'])\n",
    "    cnl['№'] = cn['№']\n",
    "    for i in range(len(cnl)):\n",
    "        cnl['Name'].loc[i] = cn['Наименование ресурса'].astype(str).loc[i]+' ('+cn['Адрес ресурса'].astype(str).loc[i]+')'\n",
    "\n",
    "except BaseException  as e:\n",
    "    beep(4)\n",
    "    easygui.msgbox('Failed to upload tab \"Ресурсы\": \\n' + str(e), title='Error!')\n",
    "    logger.error(str(e))\n",
    "    sys.exit()"
   ]
  },
  {
   "cell_type": "code",
   "execution_count": null,
   "metadata": {},
   "outputs": [],
   "source": []
  },
  {
   "cell_type": "code",
   "execution_count": null,
   "metadata": {},
   "outputs": [],
   "source": [
    "try:\n",
    "    # Read Certificates table\n",
    "    ct = pd.read_excel(os.getcwd() + '/Source/Verifications/Equipment.xlsx')\n",
    "    # Get the revision date and convert it to timestamp\n",
    "    rd = Timestamp(np.datetime64(datetime.datetime.strptime(re.sub(r'\\s\\w\\.+$', '', ag['Значение'][2]), \"%d.%m.%Y\")))\n",
    "    # Filter only actual certificates\n",
    "     # Filter Teplovisor certificates\n",
    "    if  tv.shape[0] == 0:\n",
    "        for i in range(len(ct)):\n",
    "            if ct['Оборудование'].loc[i].startswith('Тепловизор') | ct['Оборудование'].loc[i].startswith('Гигрометр'):\n",
    "                ct.drop(index = i, inplace = True)         \n",
    "     # Filter actual dates\n",
    "    ct = ct[((ct['Срок действия поверки'] >= rd) & (ct['Дата поверки'] <= rd)) | (ct['Документ'].isna())]\n",
    "    # Delete duplicates\n",
    "    ct = ct[ct['Оборудование'].duplicated() == False]\n",
    "    ct = ct.reset_index(drop=True)\n",
    "    # Save documents as anothe table\n",
    "    ctd = ct['№ документа']\n",
    "    # Renumerate rows within the table\n",
    "    ct['№ п/п'] = ct.index + 1\n",
    "    # Change date format\n",
    "    ct['Дата поверки'] = pd.to_datetime(ct['Дата поверки']).dt.strftime('%d.%m.%Y')\n",
    "    # Replace the rest NaNs with blanks\n",
    "    ct.fillna('', inplace=True)\n",
    "    # Combine Columns to one row\n",
    "    ct['Description'] = ''\n",
    "    for i in range(len(ct)):\n",
    "        if ct['Документ'].loc[i] == '':\n",
    "            ct['Description'].loc[i] = ct['№ п/п'].astype(str).loc[i]+'. '+ct['Оборудование'].loc[i]\n",
    "        else:\n",
    "            ct['Description'].loc[i] = ct['№ п/п'].astype(str).loc[i]+'. '+ct['Оборудование'].astype(str).loc[i]+' '+ct['Документ'].astype(str).loc[i]+' №' +ct['№ документа'].astype(str).loc[i]+' от '+ct['Дата поверки'].astype(str).loc[i]+'г.'\n",
    "    ct = ct['Description']\n",
    "\n",
    "except BaseException  as e:\n",
    "    beep(4)\n",
    "    easygui.msgbox('Failed to upload tab \"Equipment\": \\n' + str(e), title='Error!')\n",
    "    logger.error(str(e))\n",
    "    sys.exit()"
   ]
  },
  {
   "cell_type": "code",
   "execution_count": null,
   "metadata": {},
   "outputs": [],
   "source": [
    "print('  Done')"
   ]
  },
  {
   "cell_type": "code",
   "execution_count": null,
   "metadata": {},
   "outputs": [],
   "source": []
  },
  {
   "cell_type": "markdown",
   "metadata": {},
   "source": [
    "## Create all the necessary functions"
   ]
  },
  {
   "cell_type": "code",
   "execution_count": null,
   "metadata": {},
   "outputs": [],
   "source": [
    "# Create function for deleting paragraphs\n",
    "def delete_paragraph(paragraph):\n",
    "    p = paragraph._element\n",
    "    p.getparent().remove(p)\n",
    "    paragraph._p = paragraph._element = None"
   ]
  },
  {
   "cell_type": "code",
   "execution_count": null,
   "metadata": {},
   "outputs": [],
   "source": [
    "# Create function to move tables\n",
    "def move_table_after(table, paragraph):\n",
    "    tbl, p = table._tbl, paragraph._p\n",
    "    p.addnext(tbl)"
   ]
  },
  {
   "cell_type": "code",
   "execution_count": null,
   "metadata": {},
   "outputs": [],
   "source": [
    "# Create function to repeat tables headers\n",
    "def set_repeat_table_header(row):\n",
    "    \"\"\" set repeat table row on every new page\n",
    "    \"\"\"\n",
    "    tr = row._tr\n",
    "    trPr = tr.get_or_add_trPr()\n",
    "    tblHeader = OxmlElement('w:tblHeader')\n",
    "    tblHeader.set(qn('w:val'), \"true\")\n",
    "    trPr.append(tblHeader)\n",
    "    return row"
   ]
  },
  {
   "cell_type": "code",
   "execution_count": null,
   "metadata": {},
   "outputs": [],
   "source": [
    "# Create function для создания числа прописью\n",
    "units = (\n",
    "    u'ноль',\n",
    "    (u'один', u'одна'),\n",
    "    (u'два', u'две'),\n",
    "    u'три', u'четыре', u'пять',\n",
    "    u'шесть', u'семь', u'восемь', u'девять'\n",
    ")\n",
    "teens = (\n",
    "    u'десять', u'одиннадцать',\n",
    "    u'двенадцать', u'тринадцать',\n",
    "    u'четырнадцать', u'пятнадцать',\n",
    "    u'шестнадцать', u'семнадцать',\n",
    "    u'восемнадцать', u'девятнадцать'\n",
    ")\n",
    "tens = (\n",
    "    teens,\n",
    "    u'двадцать', u'тридцать',\n",
    "    u'сорок', u'пятьдесят',\n",
    "    u'шестьдесят', u'семьдесят',\n",
    "    u'восемьдесят', u'девяносто'\n",
    ")\n",
    "hundreds = (\n",
    "    u'сто', u'двести',\n",
    "    u'триста', u'четыреста',\n",
    "    u'пятьсот', u'шестьсот',\n",
    "    u'семьсот', u'восемьсот',\n",
    "    u'девятьсот'\n",
    ")\n",
    "orders = (# plural forms and gender\n",
    "    #((u'', u'', u''), 'm'), # ((u'рубль', u'рубля', u'рублей'), 'm'), # ((u'копейка', u'копейки', u'копеек'), 'f')\n",
    "    ((u'тысяча', u'тысячи', u'тысяч'), 'f'),\n",
    "    ((u'миллион', u'миллиона', u'миллионов'), 'm'),\n",
    "    ((u'миллиард', u'миллиарда', u'миллиардов'), 'm'),\n",
    ")\n",
    "minus = u'минус'\n",
    "\n",
    "def thousand(rest, sex):\n",
    "    \"\"\"Converts numbers from 19 to 999\"\"\"\n",
    "    prev = 0\n",
    "    plural = 2\n",
    "    name = []\n",
    "    use_teens = rest % 100 >= 10 and rest % 100 <= 19\n",
    "    if not use_teens:\n",
    "        data = ((units, 10), (tens, 100), (hundreds, 1000))\n",
    "    else:\n",
    "        data = ((teens, 10), (hundreds, 1000))\n",
    "    for names, x in data:\n",
    "        cur = int(((rest - prev) % x) * 10 / x)\n",
    "        prev = rest % x\n",
    "        if x == 10 and use_teens:\n",
    "            plural = 2\n",
    "            name.append(teens[cur])\n",
    "        elif cur == 0:\n",
    "            continue\n",
    "        elif x == 10:\n",
    "            name_ = names[cur]\n",
    "            if isinstance(name_, tuple):\n",
    "                name_ = name_[0 if sex == 'm' else 1]\n",
    "            name.append(name_)\n",
    "            if cur >= 2 and cur <= 4:\n",
    "                plural = 1\n",
    "            elif cur == 1:\n",
    "                plural = 0\n",
    "            else:\n",
    "                plural = 2\n",
    "        else:\n",
    "            name.append(names[cur-1])\n",
    "    return plural, name\n",
    "\n",
    "def num2text(num, main_units=((u'', u'', u''), 'm')):\n",
    "    \"\"\"\n",
    "    http://ru.wikipedia.org/wiki/Gettext#.D0.9C.D0.BD.D0.BE.D0.B6.D0.B5.D1.81.\\\n",
    "    D1.82.D0.B2.D0.B5.D0.BD.D0.BD.D1.8B.D0.B5_.D1.87.D0.B8.D1.81.D0.BB.D0.B0_2\n",
    "    \"\"\"\n",
    "    _orders = (main_units,) + orders\n",
    "    if num == 0:\n",
    "        return ' '.join((units[0], _orders[0][0][2])).strip() # ноль\n",
    "    rest = abs(num)\n",
    "    ord = 0\n",
    "    name = []\n",
    "    while rest > 0:\n",
    "        plural, nme = thousand(rest % 1000, _orders[ord][1])\n",
    "        if nme or ord == 0:\n",
    "            name.append(_orders[ord][0][plural])\n",
    "        name += nme\n",
    "        rest = int(rest / 1000)\n",
    "        ord += 1\n",
    "    if num < 0:\n",
    "        name.append(minus)\n",
    "    name.reverse()\n",
    "    return ' '.join(name).strip()"
   ]
  },
  {
   "cell_type": "code",
   "execution_count": null,
   "metadata": {},
   "outputs": [],
   "source": []
  },
  {
   "cell_type": "markdown",
   "metadata": {},
   "source": [
    "## Agreement"
   ]
  },
  {
   "cell_type": "code",
   "execution_count": null,
   "metadata": {},
   "outputs": [],
   "source": [
    "print('Uploading template \"Сonclusions\"...')"
   ]
  },
  {
   "cell_type": "code",
   "execution_count": null,
   "metadata": {},
   "outputs": [],
   "source": [
    "# Get the name of the folder and conclusion\n",
    " # Get apartment number\n",
    "apnr = re.findall(r'\\d+', ag['Значение'][4])[-1]\n",
    " # Get contract number\n",
    "agnr = ag['Значение'][0][:3]\n",
    "if ag['Unnamed: 4'][0] == 'Другая':\n",
    "    name = ag['Unnamed: 4'][1] + '_' + apnr\n",
    "else:\n",
    "    name = ag['Unnamed: 4'][0] + '_' + apnr"
   ]
  },
  {
   "cell_type": "code",
   "execution_count": null,
   "metadata": {},
   "outputs": [],
   "source": [
    "# Count research start time\n",
    "# Replace - with : and convert to datetime\n",
    "ag['Значение'][10] = ag['Значение'][10].replace('-', ':')\n",
    "# Get Hours and minutes\n",
    "(h, m) = ag['Значение'][10].split(':')\n",
    "# Find how much time past research start\n",
    "delta = 5 + int(m) % 5\n",
    "# Count research start time\n",
    "resstart = datetime.timedelta(hours=int(h), minutes=int(m)) - datetime.timedelta(minutes=delta)\n",
    "# Convert it to datetime\n",
    "resstart = pd.to_datetime(str(resstart)).strftime('%H:%M')"
   ]
  },
  {
   "cell_type": "code",
   "execution_count": null,
   "metadata": {},
   "outputs": [],
   "source": [
    "# Count research end time\n",
    "# Replace - with : and convert to datetime\n",
    "ag['Значение'][11] = ag['Значение'][11].replace('-', ':')\n",
    "# Get Hours and minutes\n",
    "(h, m) = ag['Значение'][11].split(':')\n",
    "# Find how much time before research end\n",
    "delta = 10 - int(m) % 5\n",
    "# Count research end time\n",
    "resend = datetime.timedelta(hours=int(h), minutes=int(m)) + datetime.timedelta(minutes=delta)\n",
    "# Convert it to datetime\n",
    "resend = pd.to_datetime(str(resend)).strftime('%H:%M')"
   ]
  },
  {
   "cell_type": "code",
   "execution_count": null,
   "metadata": {},
   "outputs": [],
   "source": [
    "try:\n",
    "    # Download Conclusion template\n",
    "    c = DocxTemplate(os.getcwd() + '/Source/Templates/Conclusion.docx')\n",
    "\n",
    "except BaseException  as e:\n",
    "    beep(4)\n",
    "    easygui.msgbox('Failed to upload template \"Conclusion\": \\n' + str(e), title='Error!')\n",
    "    logger.error(str(e))\n",
    "    sys.exit()"
   ]
  },
  {
   "cell_type": "code",
   "execution_count": null,
   "metadata": {},
   "outputs": [],
   "source": [
    "# Delete unnecessary paragraph and add signature to the standard conclusion\n",
    "if ag['Unnamed: 4'][3] == 'Стандартная':\n",
    "    # Delete unnecessary paragraph\n",
    "     # Find the paragraph\n",
    "    indx=0\n",
    "    for p in c.paragraphs:\n",
    "        if p.text.startswith('По характеру отклонений дефектов, экспертизой было установлено'):\n",
    "            trpindx = indx\n",
    "        indx+=1\n",
    "     # Delete it\n",
    "    delete_paragraph(c.paragraphs[trpindx])\n",
    "    \n",
    "    # Add signature\n",
    "     # Find where to add the signature\n",
    "    indx=0\n",
    "    for p in c.tables[0].cell(0,0).paragraphs:\n",
    "        if p.text.startswith('Рабинович А.В'):\n",
    "            sndpindx = indx\n",
    "        indx+=1\n",
    "     # Add it\n",
    "    c.tables[0].cell(0,0).paragraphs[sndpindx+1].add_run().add_picture(os.getcwd() + '/Source/Templates/Signature.png', height=Cm(3))"
   ]
  },
  {
   "cell_type": "code",
   "execution_count": null,
   "metadata": {},
   "outputs": [],
   "source": [
    "print('  Done')"
   ]
  },
  {
   "cell_type": "code",
   "execution_count": null,
   "metadata": {},
   "outputs": [],
   "source": []
  },
  {
   "cell_type": "markdown",
   "metadata": {},
   "source": [
    "## Styles"
   ]
  },
  {
   "cell_type": "code",
   "execution_count": null,
   "metadata": {},
   "outputs": [],
   "source": [
    "## Create all the necessary styles"
   ]
  },
  {
   "cell_type": "code",
   "execution_count": null,
   "metadata": {},
   "outputs": [],
   "source": [
    "# Create new font style for tables content\n",
    "cstyles = c.styles\n",
    "tablestyle = cstyles.add_style('TableStyle', WD_STYLE_TYPE.PARAGRAPH)\n",
    "font = tablestyle.font\n",
    "font.name = 'Calibri'\n",
    "font.size = Pt(10)"
   ]
  },
  {
   "cell_type": "code",
   "execution_count": null,
   "metadata": {},
   "outputs": [],
   "source": [
    "# Create new font style for tables subtitles\n",
    "subtitlestyle = cstyles.add_style('SubtitleStyle', WD_STYLE_TYPE.PARAGRAPH)\n",
    "font = subtitlestyle.font\n",
    "font.name = 'Calibri'\n",
    "font.bold= True\n",
    "font.size = Pt(10)"
   ]
  },
  {
   "cell_type": "code",
   "execution_count": null,
   "metadata": {},
   "outputs": [],
   "source": []
  },
  {
   "cell_type": "markdown",
   "metadata": {},
   "source": [
    "## Teplovisor"
   ]
  },
  {
   "cell_type": "code",
   "execution_count": null,
   "metadata": {},
   "outputs": [],
   "source": [
    "print('Filling Thermal Imager readings...')"
   ]
  },
  {
   "cell_type": "code",
   "execution_count": null,
   "metadata": {},
   "outputs": [],
   "source": [
    "# What if there is no teplovisor research:\n",
    "if  tv.shape[0] == 0:\n",
    "    \n",
    "    # Find Teplovisor GOST paragraphs\n",
    "    indx=0\n",
    "    for p in c.paragraphs[0:99]:\n",
    "        if re.search(r'ГОСТ Р 54852-2011 «Здания и сооружения. Метод тепловизионного ', p.text) is not None:\n",
    "            gostindx = indx\n",
    "        indx+=1\n",
    "    \n",
    "    # Delete Teplovisor GOST paragraphs\n",
    "    delete_paragraph(c.paragraphs[gostindx])\n",
    "    \n",
    "    # Find Teplovisor research start and end paragraphs\n",
    "    indx=0\n",
    "    for p in c.paragraphs:\n",
    "        if p.text == 'Обследование тепловой защиты':\n",
    "            startindx = indx\n",
    "        elif p.text == 'Обследование помещения':\n",
    "            endindx = indx\n",
    "        indx+=1\n",
    "\n",
    "    # Define Teplovisor paragraphs\n",
    "    tp = c.paragraphs[startindx:endindx]\n",
    "    \n",
    "    # Delete Teplovisor paragraphs\n",
    "    for i in tp:\n",
    "        delete_paragraph(i)\n",
    "        \n",
    "    # Find Teplovisor norms table\n",
    "    indx=0\n",
    "    for t in c.tables:\n",
    "        if t.cell(0,0).paragraphs[0].text.startswith('СП 50.13330.2012'):\n",
    "            tindx = indx\n",
    "        indx+=1\n",
    "    \n",
    "    # Delete Teplovisor norms table\n",
    "    c.tables[1]._element.getparent().remove(c.tables[tindx]._element)\n",
    "    \n",
    "# What if there is teplovisor research:\n",
    "else:\n",
    "    \n",
    "    # Get outside temperature on the research date\n",
    "    if ostemp == '-':\n",
    "        try:\n",
    "            # Get research date in datetime format\n",
    "            rddt = datetime.datetime.strptime(re.sub(r'\\s\\w\\.+$', '', ag['Значение'][2]), \"%d.%m.%Y\")\n",
    "\n",
    "            # Create Location Point for Moscow\n",
    "            location = Point(55.7512, 37.6184)\n",
    "\n",
    "            # Get daily data\n",
    "            data = Daily(location, rddt, rddt)\n",
    "            data = data.fetch()\n",
    "\n",
    "            # Get only temperature\n",
    "            ostemp = int(round(data['tavg'][0], 0))\n",
    "\n",
    "        except BaseException  as e:\n",
    "            beep(4)\n",
    "            ostemp = '-'\n",
    "            ostemp = easygui.enterbox('Failed to upload outdoor temperature, enter it manually:')\n",
    "    \n",
    "    # Convert DataFrame to Table and add it to the Conclusion\n",
    "    # add a table to the end and create a reference variable\n",
    "    t = c.add_table(tv.shape[0]+1, tv.shape[1])\n",
    "    # add the header rows.\n",
    "    for j in range(tv.shape[-1]):\n",
    "        t.cell(0,j).text = tv.columns[j]\n",
    "    # add the rest of the data frame\n",
    "    for i in range(tv.shape[0]):\n",
    "        for j in range(tv.shape[-1]):\n",
    "            t.cell(i+1,j).text = str(tv.values[i,j])\n",
    "    # Change table style\n",
    "    t.style = 'Table Grid'\n",
    "    # Align the table\n",
    "    t.alignment = WD_TABLE_ALIGNMENT.CENTER\n",
    "    \n",
    "    # Set table columns width\n",
    "    widths = [Cm(1.0), Cm(3.0), Cm(6.0), Cm(3.0), Cm(3.0)]\n",
    "    # Apply these widths to the table, center it's cells and change font to Pt10 (TableStyle)\n",
    "    for row in t.rows:\n",
    "        for idx, w in enumerate(widths):\n",
    "            row.cells[idx].width = w\n",
    "            row.cells[idx].paragraphs[0].paragraph_format.alignment = WD_TABLE_ALIGNMENT.CENTER\n",
    "            row.cells[idx].paragraphs[0].style = c.styles['TableStyle']\n",
    "            \n",
    "    # Find the place where to add Teplovisor table\n",
    "    indx=0\n",
    "    for p in c.paragraphs:\n",
    "        if p.text == 'Результаты обследования:':\n",
    "            tvindx = indx\n",
    "        indx+=1  \n",
    "            \n",
    "    # Move Teplovisor table to it's place\n",
    "    move_table_after(t, c.paragraphs[tvindx])            "
   ]
  },
  {
   "cell_type": "code",
   "execution_count": null,
   "metadata": {},
   "outputs": [],
   "source": [
    "print('  Done')"
   ]
  },
  {
   "cell_type": "code",
   "execution_count": null,
   "metadata": {},
   "outputs": [],
   "source": []
  },
  {
   "cell_type": "markdown",
   "metadata": {},
   "source": [
    "## Defects"
   ]
  },
  {
   "cell_type": "code",
   "execution_count": null,
   "metadata": {},
   "outputs": [],
   "source": [
    "print('Filling Defect list...')"
   ]
  },
  {
   "cell_type": "code",
   "execution_count": null,
   "metadata": {},
   "outputs": [],
   "source": [
    "# Convert DataFrame to Table and add it to the Conclusion\n",
    "# add a table to the end and create a reference variable\n",
    "d = c.add_table(sd.shape[0]+1, sd.shape[1])\n",
    "# add the header rows.\n",
    "for j in range(sd.shape[-1]):\n",
    "    d.cell(0,j).text = sd.columns[j]\n",
    "# add the rest of the data frame\n",
    "for i in range(sd.shape[0]):\n",
    "    for j in range(sd.shape[-1]):\n",
    "        d.cell(i+1,j).text = str(sd.values[i,j])\n",
    "# Change table style\n",
    "d.style = 'Table Grid'\n",
    "# Align the table\n",
    "d.alignment = WD_TABLE_ALIGNMENT.CENTER"
   ]
  },
  {
   "cell_type": "code",
   "execution_count": null,
   "metadata": {},
   "outputs": [],
   "source": [
    "# Avoid autofitting\n",
    "d.autofit = False \n",
    "d.allow_autofit = False"
   ]
  },
  {
   "cell_type": "code",
   "execution_count": null,
   "metadata": {},
   "outputs": [],
   "source": [
    "# Set table columns width\n",
    "widths = [Cm(0.9), Cm(4.2), Cm(3.3), Cm(10.4)]\n",
    "# Apply these widths to the table, vertically center it's cells and change font to Pt10 (TableStyle)\n",
    "for row in d.rows:\n",
    "    for idx, w in enumerate(widths):\n",
    "        row.cells[idx].width = w\n",
    "#         row.cells[idx].paragraphs[0].paragraph_format.alignment = WD_TABLE_ALIGNMENT.CENTER\n",
    "        row.cells[idx].vertical_alignment = WD_ALIGN_VERTICAL.CENTER\n",
    "        row.cells[idx].paragraphs[0].style = c.styles['TableStyle']\n",
    "# Center header and columns 0 and 2 horisontally\n",
    "for idx, w in enumerate(widths):\n",
    "    d.rows[0].cells[idx].paragraphs[0].paragraph_format.alignment = WD_TABLE_ALIGNMENT.CENTER\n",
    "for row in d.rows:\n",
    "    for idx in [0, 2]:\n",
    "        row.cells[idx].paragraphs[0].paragraph_format.alignment = WD_TABLE_ALIGNMENT.CENTER"
   ]
  },
  {
   "cell_type": "code",
   "execution_count": null,
   "metadata": {},
   "outputs": [],
   "source": [
    "# Merge subtitles cells 3 to 1 and delete 2 empty strings after merging\n",
    "for row in d.rows:\n",
    "    if row.cells[0].paragraphs[0].text == '':\n",
    "        row.cells[1].merge(row.cells[2].merge(row.cells[3])).paragraphs[0].paragraph_format.alignment = WD_TABLE_ALIGNMENT.CENTER\n",
    "        delete_paragraph(row.cells[1].paragraphs[-1])\n",
    "        delete_paragraph(row.cells[1].paragraphs[-1])\n",
    "        # Change merged cell stylle to bold\n",
    "        row.cells[1].paragraphs[0].style = c.styles['SubtitleStyle']"
   ]
  },
  {
   "cell_type": "code",
   "execution_count": null,
   "metadata": {},
   "outputs": [],
   "source": [
    "# Repeat header rows\n",
    "set_repeat_table_header(d.rows[0])"
   ]
  },
  {
   "cell_type": "code",
   "execution_count": null,
   "metadata": {},
   "outputs": [],
   "source": [
    "# Find the place where to add Defects table\n",
    "indx=0\n",
    "for p in c.paragraphs:\n",
    "    if p.text == 'Обследование помещения':\n",
    "        sdindx = indx\n",
    "    indx+=1"
   ]
  },
  {
   "cell_type": "code",
   "execution_count": null,
   "metadata": {},
   "outputs": [],
   "source": [
    "# Move Defects table to it's place\n",
    "move_table_after(d, c.paragraphs[sdindx])"
   ]
  },
  {
   "cell_type": "code",
   "execution_count": null,
   "metadata": {},
   "outputs": [],
   "source": [
    "print('  Done')"
   ]
  },
  {
   "cell_type": "code",
   "execution_count": null,
   "metadata": {},
   "outputs": [],
   "source": []
  },
  {
   "cell_type": "markdown",
   "metadata": {},
   "source": [
    "## The Walls"
   ]
  },
  {
   "cell_type": "code",
   "execution_count": null,
   "metadata": {},
   "outputs": [],
   "source": [
    "try:\n",
    "    #Create the table where to put The Walls picture in\n",
    "    twt = c.add_table(1, 1)\n",
    "    # Add paragraph to the first cell and run it\n",
    "    twp = twt.rows[0].cells[0].add_paragraph()\n",
    "    twr = twp.add_run('На плане квартиры ниже красным цветом указаны стены, поверхность которых подлежит выравниванию.')\n",
    "    # Add picture to this paragraph\n",
    "    for filename in os.listdir(os.getcwd() + '/{}/'.format(fn)):\n",
    "        if re.search(r'Walls', filename) is not None:\n",
    "            twr.add_picture(os.getcwd() + '/{}/{}'.format(fn, filename), height=Cm(18))\n",
    "    # Delete empty string before picture\n",
    "    delete_paragraph(twt.rows[0].cells[0].paragraphs[-2])\n",
    "        \n",
    "except BaseException  as e:\n",
    "    beep(4)\n",
    "    easygui.msgbox('Failed to upload image \"Walls\": \\n' + str(e), title='Error!')\n",
    "    logger.error(str(e))\n",
    "    sys.exit()        "
   ]
  },
  {
   "cell_type": "code",
   "execution_count": null,
   "metadata": {},
   "outputs": [],
   "source": [
    "# Move The Wall picture table to it's place\n",
    "move_table_after(twt, c.paragraphs[sdindx+1])"
   ]
  },
  {
   "cell_type": "code",
   "execution_count": null,
   "metadata": {},
   "outputs": [],
   "source": []
  },
  {
   "cell_type": "markdown",
   "metadata": {},
   "source": [
    "## The Plan"
   ]
  },
  {
   "cell_type": "code",
   "execution_count": null,
   "metadata": {},
   "outputs": [],
   "source": [
    "try:\n",
    "    # Create the table where to put The Plan picture in\n",
    "    tpt = c.add_table(1, 1)\n",
    "    # Add paragraph to the first cell and run it\n",
    "    tpp = tpt.rows[0].cells[0].add_paragraph()\n",
    "    tpr = tpp.add_run()\n",
    "    # Add picture to this paragraph\n",
    "    for filename in os.listdir(os.getcwd() + '/{}/'.format(fn)):\n",
    "        if filename.endswith(\".jpg\") and re.search(r'Plan', filename) is not None:\n",
    "            tpr.add_picture(os.getcwd() + '/{}/{}'.format(fn, filename), height=Cm(23))\n",
    "        \n",
    "except BaseException  as e:\n",
    "    beep(4)\n",
    "    easygui.msgbox('Failed to upload image \"Plan\": \\n' + str(e), title='Error!')\n",
    "    logger.error(str(e))\n",
    "    sys.exit()        "
   ]
  },
  {
   "cell_type": "code",
   "execution_count": null,
   "metadata": {},
   "outputs": [],
   "source": [
    "# Find the place where to add The Plan picture\n",
    "indx=0\n",
    "for p in c.paragraphs:\n",
    "    if p.text == 'Приложение №2. План квартиры':\n",
    "        tpindx = indx\n",
    "    indx+=1"
   ]
  },
  {
   "cell_type": "code",
   "execution_count": null,
   "metadata": {},
   "outputs": [],
   "source": [
    "# Move The Wall picture table to it's place\n",
    "move_table_after(tpt, c.paragraphs[tpindx])"
   ]
  },
  {
   "cell_type": "code",
   "execution_count": null,
   "metadata": {},
   "outputs": [],
   "source": []
  },
  {
   "cell_type": "markdown",
   "metadata": {},
   "source": [
    "## Vedomost"
   ]
  },
  {
   "cell_type": "code",
   "execution_count": null,
   "metadata": {},
   "outputs": [],
   "source": [
    "print('Filling Defect statement...')"
   ]
  },
  {
   "cell_type": "code",
   "execution_count": null,
   "metadata": {},
   "outputs": [],
   "source": [
    "# Convert DataFrame to Table and add it to the Conclusion\n",
    "# add a table to the end and create a reference variable\n",
    "v = c.add_table(dv.shape[0]+1, dv.shape[1])\n",
    "# add the header rows.\n",
    "for j in range(dv.shape[-1]):\n",
    "    v.cell(0,j).text = dv.columns[j]\n",
    "# add the rest of the data frame and center it\n",
    "for i in range(dv.shape[0]):\n",
    "    for j in range(dv.shape[-1]):\n",
    "        v.cell(i+1,j).text = str(dv.values[i,j])\n",
    "        v.cell(i+1,j).paragraphs[0].paragraph_format.alignment = WD_TABLE_ALIGNMENT.CENTER\n",
    "# Change table style\n",
    "v.style = 'Table Grid'\n",
    "# Align the table\n",
    "v.alignment = WD_TABLE_ALIGNMENT.CENTER        "
   ]
  },
  {
   "cell_type": "code",
   "execution_count": null,
   "metadata": {},
   "outputs": [],
   "source": [
    "# Avoid autofitting if the table too long\n",
    "if dv.shape[1] > 10:\n",
    "    v.autofit = False \n",
    "    v.allow_autofit = False"
   ]
  },
  {
   "cell_type": "code",
   "execution_count": null,
   "metadata": {
    "scrolled": false
   },
   "outputs": [],
   "source": [
    "# Set table columns width\n",
    "widths = [Cm(0.9), Cm(4.0), Cm(1.1), Cm(1.4)]\n",
    "\n",
    "# Create columns widths table\n",
    "widthstab = pd.DataFrame({'Room':['Кухня','Кухня-гост','Гост','Спальня', 'Комната', 'Гард', 'Кор', 'Балкон', 'Ванна', 'Сан'], 'Width':[1.3, 1.8, 1.8, 1.7, 1.7, 1.5, 1.2, 1.6, 1.5, 1.2]})"
   ]
  },
  {
   "cell_type": "code",
   "execution_count": null,
   "metadata": {},
   "outputs": [],
   "source": [
    "# Apply these widths to the table, vertically center it's cells and change font to Pt10 (TableStyle)\n",
    "# rown = 0\n",
    "for row in v.rows:\n",
    "    # Apply widths for permanent columns\n",
    "    for idx in range(dv.shape[1]):\n",
    "        if idx < 3:\n",
    "            row.cells[idx].width = widths[idx]\n",
    "            row.cells[idx].vertical_alignment = WD_ALIGN_VERTICAL.CENTER\n",
    "            row.cells[idx].paragraphs[0].style = c.styles['TableStyle']\n",
    "        elif idx == dv.shape[1]-1:\n",
    "            row.cells[idx].width = widths[3]\n",
    "            row.cells[idx].vertical_alignment = WD_ALIGN_VERTICAL.CENTER\n",
    "            row.cells[idx].paragraphs[0].style = c.styles['TableStyle']\n",
    "        # Apply widths for additional columns\n",
    "        else:\n",
    "            for i in range(len(widthstab)):\n",
    "                if dv.values[0 , idx].startswith(widthstab['Room'][i]):\n",
    "                    row.cells[idx].width = Cm(widthstab['Width'][i])\n",
    "                    row.cells[idx].vertical_alignment = WD_ALIGN_VERTICAL.CENTER\n",
    "                    row.cells[idx].paragraphs[0].style = c.styles['TableStyle']"
   ]
  },
  {
   "cell_type": "code",
   "execution_count": null,
   "metadata": {},
   "outputs": [],
   "source": [
    "# Merge header's cells and delete strings after merging\n",
    "# Vertical merge\n",
    "for i in (0, 1, 2, dv.shape[1]-1):\n",
    "    v.cell(0, i).merge(v.cell(1, i)).paragraphs[0].paragraph_format.alignment = WD_TABLE_ALIGNMENT.CENTER\n",
    "    delete_paragraph(v.cell(0, i).paragraphs[-1])\n",
    "# Horizontal merge\n",
    "for j in range(3, dv.shape[1]-2):\n",
    "    v.cell(0, j).merge(v.cell(0, j+1)).paragraphs[0].paragraph_format.alignment = WD_TABLE_ALIGNMENT.CENTER\n",
    "    delete_paragraph(v.cell(0, j).paragraphs[-1])"
   ]
  },
  {
   "cell_type": "code",
   "execution_count": null,
   "metadata": {},
   "outputs": [],
   "source": [
    "# Align Names of the Jobs left\n",
    "for i in range(2, dv.shape[0]+1):\n",
    "    v.cell(i, 1).paragraphs[0].paragraph_format.alignment = WD_TABLE_ALIGNMENT.LEFT"
   ]
  },
  {
   "cell_type": "code",
   "execution_count": null,
   "metadata": {},
   "outputs": [],
   "source": [
    "# Find the place where to add Vedomost table\n",
    "indx=0\n",
    "for p in c.paragraphs:\n",
    "    if p.text == 'Дефектная ведомость':\n",
    "        dvindx = indx\n",
    "    indx+=1"
   ]
  },
  {
   "cell_type": "code",
   "execution_count": null,
   "metadata": {},
   "outputs": [],
   "source": [
    "# Move Vedomost table to it's place\n",
    "move_table_after(v, c.paragraphs[dvindx])"
   ]
  },
  {
   "cell_type": "code",
   "execution_count": null,
   "metadata": {},
   "outputs": [],
   "source": [
    "print('  Done')"
   ]
  },
  {
   "cell_type": "code",
   "execution_count": null,
   "metadata": {},
   "outputs": [],
   "source": []
  },
  {
   "cell_type": "markdown",
   "metadata": {},
   "source": [
    "## Contractors"
   ]
  },
  {
   "cell_type": "markdown",
   "metadata": {},
   "source": [
    "#### Table"
   ]
  },
  {
   "cell_type": "code",
   "execution_count": null,
   "metadata": {},
   "outputs": [],
   "source": [
    "# Convert DataFrame to Table and add it to the Conclusion\n",
    "# add a table to the end and create a reference variable\n",
    "co = c.add_table(cnt.shape[0]+1, cnt.shape[1])\n",
    "# add the header rows.\n",
    "for j in range(cnt.shape[-1]):\n",
    "    co.cell(0,j).text = cnt.columns[j]\n",
    "# add the rest of the data frame and center it\n",
    "for i in range(cnt.shape[0]):\n",
    "    for j in range(cnt.shape[-1]):\n",
    "        co.cell(i+1,j).text = str(cnt.values[i,j])\n",
    "        co.cell(i+1,j).paragraphs[0].paragraph_format.alignment = WD_TABLE_ALIGNMENT.CENTER\n",
    "# Change table style\n",
    "co.style = 'Table Grid'\n",
    "# Align the table\n",
    "co.alignment = WD_TABLE_ALIGNMENT.LEFT   "
   ]
  },
  {
   "cell_type": "code",
   "execution_count": null,
   "metadata": {},
   "outputs": [],
   "source": [
    "# Set table columns width\n",
    "widths = [Cm(1.0), Cm(5.5)]\n",
    "# Apply these widths to the table, vertically center it's cells and change font to Pt10 (TableStyle)\n",
    "for row in co.rows:\n",
    "    for idx, w in enumerate(widths):\n",
    "        row.cells[idx].width = w\n",
    "        row.cells[idx].vertical_alignment = WD_ALIGN_VERTICAL.CENTER"
   ]
  },
  {
   "cell_type": "code",
   "execution_count": null,
   "metadata": {},
   "outputs": [],
   "source": [
    "# Align Names of the Contractors left\n",
    "for i in range(1, cnt.shape[0]+1):\n",
    "    co.cell(i, 1).paragraphs[0].paragraph_format.alignment = WD_TABLE_ALIGNMENT.LEFT"
   ]
  },
  {
   "cell_type": "code",
   "execution_count": null,
   "metadata": {},
   "outputs": [],
   "source": [
    "# Find the place where to add Contractors table\n",
    "indx=0\n",
    "for p in c.paragraphs:\n",
    "    if p.text.startswith('Единичные расценки были взяты из'):\n",
    "        cntindx = indx\n",
    "    indx+=1"
   ]
  },
  {
   "cell_type": "code",
   "execution_count": null,
   "metadata": {},
   "outputs": [],
   "source": [
    "# Move Contractors table to it's place\n",
    "move_table_after(co, c.paragraphs[cntindx])"
   ]
  },
  {
   "cell_type": "code",
   "execution_count": null,
   "metadata": {},
   "outputs": [],
   "source": []
  },
  {
   "cell_type": "markdown",
   "metadata": {},
   "source": [
    "#### ListLikeTable"
   ]
  },
  {
   "cell_type": "code",
   "execution_count": null,
   "metadata": {},
   "outputs": [],
   "source": [
    "# Convert DataFrame to ListLikeTable and add it to the Conclusion\n",
    "# add a table to the end and create a reference variable\n",
    "colist = c.add_table(cnl.shape[0], cnl.shape[1])\n",
    "for i in range(cnl.shape[0]):\n",
    "    colist.cell(i,0).text = '-'\n",
    "    colist.cell(i,1).text = str(cnl.values[i,1])\n",
    "    colist.cell(i,1).paragraphs[0].paragraph_format.alignment = WD_TABLE_ALIGNMENT.LEFT\n",
    "# Align the table\n",
    "colist.alignment = WD_TABLE_ALIGNMENT.LEFT  "
   ]
  },
  {
   "cell_type": "code",
   "execution_count": null,
   "metadata": {},
   "outputs": [],
   "source": [
    "# Set listliketable columns width\n",
    "widths = [Cm(1.0), Cm(9.5)]\n",
    "# Apply these widths to the table, vertically center it's cells and change font to Pt10 (TableStyle)\n",
    "for row in colist.rows:\n",
    "    for idx, w in enumerate(widths):\n",
    "        row.cells[idx].width = w\n",
    "        row.cells[idx].vertical_alignment = WD_ALIGN_VERTICAL.CENTER"
   ]
  },
  {
   "cell_type": "code",
   "execution_count": null,
   "metadata": {},
   "outputs": [],
   "source": [
    "# Align '-' right\n",
    "for i in range(cnl.shape[0]):\n",
    "    colist.cell(i, 0).paragraphs[0].paragraph_format.alignment = WD_TABLE_ALIGNMENT.RIGHT"
   ]
  },
  {
   "cell_type": "code",
   "execution_count": null,
   "metadata": {},
   "outputs": [],
   "source": [
    "# Find the place where to add Contractors listliketable\n",
    "indx=0\n",
    "for p in c.paragraphs:\n",
    "    if p.text.startswith('Расценки взяты из следующих веб-сайтов'):\n",
    "        cnllistindx = indx\n",
    "    indx+=1"
   ]
  },
  {
   "cell_type": "code",
   "execution_count": null,
   "metadata": {},
   "outputs": [],
   "source": [
    "# Move Contractors listliketable to it's place\n",
    "move_table_after(colist, c.paragraphs[cnllistindx])"
   ]
  },
  {
   "cell_type": "code",
   "execution_count": null,
   "metadata": {},
   "outputs": [],
   "source": []
  },
  {
   "cell_type": "markdown",
   "metadata": {},
   "source": [
    "## Prices"
   ]
  },
  {
   "cell_type": "code",
   "execution_count": null,
   "metadata": {},
   "outputs": [],
   "source": [
    "print('Filling cost of work and materials Tables...')"
   ]
  },
  {
   "cell_type": "code",
   "execution_count": null,
   "metadata": {},
   "outputs": [],
   "source": [
    "# Convert DataFrame to Table and add it to the Conclusion\n",
    "# add a table to the end and create a reference variable\n",
    "r = c.add_table(pr.shape[0]+1, pr.shape[1])\n",
    "# add the header rows.\n",
    "for j in range(pr.shape[-1]):\n",
    "    r.cell(0,j).text = pr.columns[j]\n",
    "# add the rest of the data frame and center it\n",
    "for i in range(pr.shape[0]):\n",
    "    for j in range(pr.shape[-1]):\n",
    "        r.cell(i+1,j).text = str(pr.values[i,j])\n",
    "        r.cell(i+1,j).paragraphs[0].paragraph_format.alignment = WD_TABLE_ALIGNMENT.CENTER\n",
    "# Change table style\n",
    "r.style = 'Table Grid'\n",
    "# Align the table\n",
    "r.alignment = WD_TABLE_ALIGNMENT.CENTER   "
   ]
  },
  {
   "cell_type": "code",
   "execution_count": null,
   "metadata": {},
   "outputs": [],
   "source": [
    "# Avoid autofitting\n",
    "r.autofit = False \n",
    "r.allow_autofit = False"
   ]
  },
  {
   "cell_type": "code",
   "execution_count": null,
   "metadata": {},
   "outputs": [],
   "source": [
    "# Set table columns width\n",
    "widths = [Cm(0.9), Cm(5.7), Cm(1.1), Cm(1.4), Cm(1.2), Cm(1.2), Cm(1.2), Cm(1.2), Cm(2.0), Cm(2.1)]\n",
    "# Apply these widths to the table, vertically center it's cells and change font to Pt10 (TableStyle)\n",
    "for row in r.rows:\n",
    "    for idx, w in enumerate(widths):\n",
    "        row.cells[idx].width = w\n",
    "        row.cells[idx].vertical_alignment = WD_ALIGN_VERTICAL.CENTER\n",
    "        row.cells[idx].paragraphs[0].style = c.styles['TableStyle']"
   ]
  },
  {
   "cell_type": "code",
   "execution_count": null,
   "metadata": {},
   "outputs": [],
   "source": [
    "# Merge header's cells and delete strings after merging\n",
    "# Vertical merge\n",
    "for i in (0, 1, 2, 3, 8, 9):\n",
    "    r.cell(0, i).merge(r.cell(1, i)).paragraphs[0].paragraph_format.alignment = WD_TABLE_ALIGNMENT.CENTER\n",
    "    delete_paragraph(r.cell(0, i).paragraphs[-1])\n",
    "# Horizontal merge\n",
    "for j in range(4, 7):\n",
    "    r.cell(0, j).merge(r.cell(0, j+1)).paragraphs[0].paragraph_format.alignment = WD_TABLE_ALIGNMENT.CENTER\n",
    "    delete_paragraph(r.cell(0, j).paragraphs[-1])"
   ]
  },
  {
   "cell_type": "code",
   "execution_count": null,
   "metadata": {},
   "outputs": [],
   "source": [
    "# Align Names of the Jobs and materials left\n",
    "for i in range(2, pr.shape[0]+1):\n",
    "    r.cell(i, 1).paragraphs[0].paragraph_format.alignment = WD_TABLE_ALIGNMENT.LEFT\n",
    "    # change subtotal cells stylle to bold\n",
    "    if r.cell(i, 1).paragraphs[0].text.startswith('Итого') or r.cell(i, 1).paragraphs[0].text.startswith('Стоимость'):\n",
    "        r.cell(i, 1).paragraphs[0].style = c.styles['SubtitleStyle']\n",
    "        r.cell(i, 9).paragraphs[0].style = c.styles['SubtitleStyle']"
   ]
  },
  {
   "cell_type": "code",
   "execution_count": null,
   "metadata": {},
   "outputs": [],
   "source": [
    "# Repeat header rows\n",
    "set_repeat_table_header(r.rows[0])"
   ]
  },
  {
   "cell_type": "code",
   "execution_count": null,
   "metadata": {},
   "outputs": [],
   "source": [
    "# Find the place where to add Price table\n",
    "indx=0\n",
    "for p in c.paragraphs:\n",
    "    if p.text == 'Расчёт стоимости устранения отклонений':\n",
    "        prindx = indx\n",
    "    indx+=1"
   ]
  },
  {
   "cell_type": "code",
   "execution_count": null,
   "metadata": {},
   "outputs": [],
   "source": [
    "# Move Price table to it's place\n",
    "move_table_after(r, c.paragraphs[prindx])"
   ]
  },
  {
   "cell_type": "code",
   "execution_count": null,
   "metadata": {},
   "outputs": [],
   "source": []
  },
  {
   "cell_type": "markdown",
   "metadata": {},
   "source": [
    "## Windows"
   ]
  },
  {
   "cell_type": "code",
   "execution_count": null,
   "metadata": {},
   "outputs": [],
   "source": [
    "# What if there are windows job\n",
    "if wn.shape[0]>1:\n",
    "    \n",
    "    # Convert DataFrame to Table and add it to the Conclusion\n",
    "    # add a table to the end and create a reference variable\n",
    "    wi = c.add_table(wn.shape[0]+1, wn.shape[1])\n",
    "    # add the header rows.\n",
    "    for j in range(wn.shape[-1]):\n",
    "        wi.cell(0,j).text = wn.columns[j]\n",
    "    # add the rest of the data frame and center it\n",
    "    for i in range(wn.shape[0]):\n",
    "        for j in range(wn.shape[-1]):\n",
    "            wi.cell(i+1,j).text = str(wn.values[i,j])\n",
    "            wi.cell(i+1,j).paragraphs[0].paragraph_format.alignment = WD_TABLE_ALIGNMENT.CENTER\n",
    "    # Change table style\n",
    "    wi.style = 'Table Grid'\n",
    "    # Align the table\n",
    "    wi.alignment = WD_TABLE_ALIGNMENT.CENTER   \n",
    "    \n",
    "    # Avoid autofitting\n",
    "    wi.autofit = False \n",
    "    wi.allow_autofit = False\n",
    "    \n",
    "    # Set table columns width\n",
    "    widths = [Cm(0.9), Cm(7.7), Cm(1.1), Cm(1.4), Cm(1.4), Cm(1.4), Cm(2.0), Cm(2.1)]\n",
    "    # Apply these widths to the table, vertically center it's cells and change font to Pt10 (TableStyle)\n",
    "    for row in wi.rows:\n",
    "        for idx, w in enumerate(widths):\n",
    "            row.cells[idx].width = w\n",
    "            row.cells[idx].vertical_alignment = WD_ALIGN_VERTICAL.CENTER\n",
    "            row.cells[idx].paragraphs[0].style = c.styles['TableStyle']\n",
    "\n",
    "    # Merge header's cells and delete strings after merging\n",
    "    # Vertical merge\n",
    "    for i in (0, 1, 2, 3, 6, 7):\n",
    "        wi.cell(0, i).merge(wi.cell(1, i)).paragraphs[0].paragraph_format.alignment = WD_TABLE_ALIGNMENT.CENTER\n",
    "        delete_paragraph(wi.cell(0, i).paragraphs[-1])\n",
    "    # Horizontal merge\n",
    "    for j in range(4, 5):\n",
    "        wi.cell(0, j).merge(wi.cell(0, j+1)).paragraphs[0].paragraph_format.alignment = WD_TABLE_ALIGNMENT.CENTER\n",
    "        delete_paragraph(wi.cell(0, j).paragraphs[-1]) \n",
    "    \n",
    "    # Align Names of the Jobs and materials left\n",
    "    for i in range(2, wn.shape[0]+1):\n",
    "        wi.cell(i, 1).paragraphs[0].paragraph_format.alignment = WD_TABLE_ALIGNMENT.LEFT\n",
    "        # change subtotal cells stylle to bold\n",
    "        if wi.cell(i, 1).paragraphs[0].text.startswith('Итого окна'):\n",
    "            wi.cell(i, 1).paragraphs[0].style = c.styles['SubtitleStyle']\n",
    "            wi.cell(i, 7).paragraphs[0].style = c.styles['SubtitleStyle'] \n",
    "\n",
    "    # Find the place where to add Windows table\n",
    "    indx=0\n",
    "    for p in c.paragraphs:\n",
    "        if p.text.startswith('Итого все работы и материалы'):\n",
    "            wnindx = indx\n",
    "        indx+=1 \n",
    "    \n",
    "    # Add empty row to prevent concatination of tables\n",
    "    c.paragraphs[wnindx-1]._p.addnext(c.add_paragraph(\"\")._p)\n",
    "    \n",
    "    # Move Windows table to it's place\n",
    "    move_table_after(wi, c.paragraphs[wnindx-1])"
   ]
  },
  {
   "cell_type": "code",
   "execution_count": null,
   "metadata": {},
   "outputs": [],
   "source": []
  },
  {
   "cell_type": "markdown",
   "metadata": {},
   "source": [
    "## Ceiling"
   ]
  },
  {
   "cell_type": "code",
   "execution_count": null,
   "metadata": {},
   "outputs": [],
   "source": [
    "# What if there are ceiling job\n",
    "if cl.shape[0]>1:\n",
    "    # Replace Contractors number according to its quantity\n",
    "    cl.values[0, 4] = cn.values[cn.shape[0]-3, 0]\n",
    "    cl.values[0, 5] = cn.values[cn.shape[0]-2, 0]\n",
    "    cl.values[0, 6] = cn.values[cn.shape[0]-1, 0]\n",
    "    \n",
    "    # Convert DataFrame to Table and add it to the Conclusion\n",
    "    # add a table to the end and create a reference variable\n",
    "    ce = c.add_table(cl.shape[0]+1, cl.shape[1])\n",
    "    # add the header rows.\n",
    "    for j in range(cl.shape[-1]):\n",
    "        ce.cell(0,j).text = cl.columns[j]\n",
    "    # add the rest of the data frame and center it\n",
    "    for i in range(cl.shape[0]):\n",
    "        for j in range(cl.shape[-1]):\n",
    "            ce.cell(i+1,j).text = str(cl.values[i,j])\n",
    "            ce.cell(i+1,j).paragraphs[0].paragraph_format.alignment = WD_TABLE_ALIGNMENT.CENTER\n",
    "    # Change table style\n",
    "    ce.style = 'Table Grid'\n",
    "    # Align the table\n",
    "    ce.alignment = WD_TABLE_ALIGNMENT.CENTER   \n",
    "    \n",
    "    # Avoid autofitting\n",
    "    ce.autofit = False \n",
    "    ce.allow_autofit = False\n",
    "    \n",
    "    # Set table columns width\n",
    "    widths = [Cm(0.9), Cm(6.6), Cm(1.1), Cm(1.4), Cm(1.3), Cm(1.3), Cm(1.3), Cm(2.0), Cm(2.1)]\n",
    "    # Apply these widths to the table, vertically center it's cells and change font to Pt10 (TableStyle)\n",
    "    for row in ce.rows:\n",
    "        for idx, w in enumerate(widths):\n",
    "            row.cells[idx].width = w\n",
    "            row.cells[idx].vertical_alignment = WD_ALIGN_VERTICAL.CENTER\n",
    "            row.cells[idx].paragraphs[0].style = c.styles['TableStyle']\n",
    "    \n",
    "    # Merge header's cells and delete strings after merging\n",
    "    # Vertical merge\n",
    "    for i in (0, 1, 2, 3, 7, 8):\n",
    "        ce.cell(0, i).merge(ce.cell(1, i)).paragraphs[0].paragraph_format.alignment = WD_TABLE_ALIGNMENT.CENTER\n",
    "        delete_paragraph(ce.cell(0, i).paragraphs[-1])\n",
    "    # Horizontal merge\n",
    "    for j in range(4, 6):\n",
    "        ce.cell(0, j).merge(ce.cell(0, j+1)).paragraphs[0].paragraph_format.alignment = WD_TABLE_ALIGNMENT.CENTER\n",
    "        delete_paragraph(ce.cell(0, j).paragraphs[-1])\n",
    "    \n",
    "    # Align Names of the Jobs left\n",
    "    for i in range(2, cl.shape[0]+1):\n",
    "        ce.cell(i, 1).paragraphs[0].paragraph_format.alignment = WD_TABLE_ALIGNMENT.LEFT\n",
    "        # change subtotal cells stylle to bold\n",
    "        if ce.cell(i, 1).paragraphs[0].text.startswith('Итого потолок'):\n",
    "            ce.cell(i, 1).paragraphs[0].style = c.styles['SubtitleStyle']\n",
    "            ce.cell(i, 8).paragraphs[0].style = c.styles['SubtitleStyle']\n",
    "    \n",
    "    # Find the place where to add Ceiling table\n",
    "    indx=0\n",
    "    for p in c.paragraphs:\n",
    "        if p.text.startswith('Итого все работы и материалы'):\n",
    "            clindx = indx\n",
    "        indx+=1\n",
    "    \n",
    "    # Add empty row to prevent concatination of tables\n",
    "    c.paragraphs[clindx-1]._p.addnext(c.add_paragraph(\"\")._p)\n",
    "    \n",
    "    # Move Ceiling table to it's place\n",
    "    move_table_after(ce, c.paragraphs[clindx-1])    "
   ]
  },
  {
   "cell_type": "code",
   "execution_count": null,
   "metadata": {},
   "outputs": [],
   "source": [
    "print('  Done')"
   ]
  },
  {
   "cell_type": "code",
   "execution_count": null,
   "metadata": {},
   "outputs": [],
   "source": []
  },
  {
   "cell_type": "markdown",
   "metadata": {},
   "source": [
    "## Photos"
   ]
  },
  {
   "cell_type": "code",
   "execution_count": null,
   "metadata": {},
   "outputs": [],
   "source": [
    "print('Uploading Photos...')"
   ]
  },
  {
   "cell_type": "code",
   "execution_count": null,
   "metadata": {
    "scrolled": true
   },
   "outputs": [],
   "source": [
    "try:\n",
    "    # Read PDF file\n",
    "    for pdf_file in os.listdir(os.getcwd() + '/{}/'.format(fn)):\n",
    "#         if pdf_file.endswith(\".pdf\") and not pdf_file.startswith('Conclusion'):\n",
    "        if pdf_file.endswith(\".pdf\") and pdf_file.startswith('report'):    \n",
    "            # Convert it to JPG\n",
    "            pages = convert_from_path(os.getcwd() + '/{}/{}'.format(fn, pdf_file), 300, poppler_path = os.getcwd() + '/SYSTEM/Poppler/poppler-21.08.0/Library/bin')\n",
    "            # Create table where to put Photos\n",
    "            tft = c.add_table(len(pages), 1)\n",
    "#             # Cancel autofitting\n",
    "#             tft.autofit = False \n",
    "#             tft.allow_autofit = False\n",
    "            # Add each page to the table\n",
    "            for page in pages:         \n",
    "                # Save the page\n",
    "                page.save(os.getcwd() + '/{}/page.jpg'.format(fn))            \n",
    "                # Add paragraph to the cell and run it\n",
    "                tfp = tft.rows[pages.index(page)].cells[0].add_paragraph()\n",
    "                tfr = tfp.add_run()\n",
    "                # Add picture to this paragraph\n",
    "                 # Define picture height\n",
    "                if pages.index(page) in [0, len(pages)-1]:\n",
    "                    h = 25.5\n",
    "                else:\n",
    "                    h = 27\n",
    "                tfr.add_picture(os.getcwd() + '/{}/page.jpg'.format(fn), height=Cm(h))\n",
    "                 # Delete empty string before picture\n",
    "                delete_paragraph(tft.rows[pages.index(page)].cells[0].paragraphs[-2])\n",
    "    # Delete the page file\n",
    "    os.remove(os.getcwd() + '/{}/page.jpg'.format(fn))\n",
    "\n",
    "except BaseException  as e:\n",
    "    beep(4)\n",
    "    easygui.msgbox('Failed to upload inspection photos: \\n' + str(e), title='Error!')\n",
    "    logger.error(str(e))\n",
    "    sys.exit()"
   ]
  },
  {
   "cell_type": "code",
   "execution_count": null,
   "metadata": {},
   "outputs": [],
   "source": [
    "# Find the place where to add Photos\n",
    "indx=0\n",
    "for p in c.paragraphs:\n",
    "    if p.text.endswith('Фотографии, выполненные экспертом во время осмотра'):\n",
    "        tfindx = indx\n",
    "    indx+=1"
   ]
  },
  {
   "cell_type": "code",
   "execution_count": null,
   "metadata": {},
   "outputs": [],
   "source": [
    "# Move Phtos table to it's place\n",
    "move_table_after(tft, c.paragraphs[tfindx])"
   ]
  },
  {
   "cell_type": "code",
   "execution_count": null,
   "metadata": {},
   "outputs": [],
   "source": [
    "print('  Done')"
   ]
  },
  {
   "cell_type": "code",
   "execution_count": null,
   "metadata": {},
   "outputs": [],
   "source": []
  },
  {
   "cell_type": "markdown",
   "metadata": {},
   "source": [
    "## Certificates"
   ]
  },
  {
   "cell_type": "code",
   "execution_count": null,
   "metadata": {},
   "outputs": [],
   "source": [
    "print('Uploading Annexes...')"
   ]
  },
  {
   "cell_type": "code",
   "execution_count": null,
   "metadata": {},
   "outputs": [],
   "source": [
    "# Convert DataFrame to ListLikeTable and add it to the Conclusion\n",
    "# add a table to the end and create a reference variable\n",
    "crlist = c.add_table(ct.shape[0], 1)\n",
    "for i in range(ct.shape[0]):\n",
    "    crlist.cell(i,0).text = str(ct.values[i])\n",
    "    crlist.cell(i,0).paragraphs[0].paragraph_format.alignment = WD_TABLE_ALIGNMENT.LEFT\n",
    "# Align the table\n",
    "crlist.alignment = WD_TABLE_ALIGNMENT.LEFT  "
   ]
  },
  {
   "cell_type": "code",
   "execution_count": null,
   "metadata": {},
   "outputs": [],
   "source": [
    "# Find the place where to add Certificates table\n",
    "indx=0\n",
    "for p in c.paragraphs:\n",
    "    if p.text.startswith('Оборудование, использованное при производстве'):\n",
    "        ctindx = indx\n",
    "    indx+=1"
   ]
  },
  {
   "cell_type": "code",
   "execution_count": null,
   "metadata": {},
   "outputs": [],
   "source": [
    "# Move Certificates table to it's place\n",
    "move_table_after(crlist, c.paragraphs[ctindx])"
   ]
  },
  {
   "cell_type": "code",
   "execution_count": null,
   "metadata": {},
   "outputs": [],
   "source": []
  },
  {
   "cell_type": "code",
   "execution_count": null,
   "metadata": {},
   "outputs": [],
   "source": [
    "# Remove NaNs at ctd\n",
    "ctd = ctd.dropna()\n",
    "ctd = ctd.reset_index(drop=True)"
   ]
  },
  {
   "cell_type": "code",
   "execution_count": null,
   "metadata": {},
   "outputs": [],
   "source": [
    "# Delete '/' at documents names\n",
    "ctd = ctd.str.replace('/','')"
   ]
  },
  {
   "cell_type": "code",
   "execution_count": null,
   "metadata": {},
   "outputs": [],
   "source": [
    "# Find all the necessary certificates:\n",
    "certs = np.array([])\n",
    "for i in range(len(ctd)):\n",
    "    for filename in os.listdir(os.getcwd() + '/Source/Verifications'):\n",
    "        if filename.startswith(ctd.values[i]):\n",
    "            #Add them to the list\n",
    "            certs = np.append(certs, ctd.values[i])"
   ]
  },
  {
   "cell_type": "code",
   "execution_count": null,
   "metadata": {},
   "outputs": [],
   "source": [
    "# Make elements quantity even:\n",
    "if len(certs) % 2 != 0:\n",
    "    certs = np.append(certs, '')"
   ]
  },
  {
   "cell_type": "code",
   "execution_count": null,
   "metadata": {},
   "outputs": [],
   "source": [
    "# Reshape array to two columns array:\n",
    "certs = np.reshape(certs, (-1, 2))"
   ]
  },
  {
   "cell_type": "code",
   "execution_count": null,
   "metadata": {},
   "outputs": [],
   "source": [
    "# Create the table where to put The Walls picture in\n",
    "tct = c.add_table(certs.shape[0], 2)"
   ]
  },
  {
   "cell_type": "code",
   "execution_count": null,
   "metadata": {},
   "outputs": [],
   "source": [
    "try:\n",
    "    # Insert Certificates to the table\n",
    "    for i in range(certs.shape[0]):\n",
    "        for j in range(2):\n",
    "            # Add paragraph to the cell and run it\n",
    "            tcp = tct.rows[i].cells[j].add_paragraph()\n",
    "            tcr = tcp.add_run()\n",
    "            # Add picture to this paragraph\n",
    "            if certs[i,j] != '':\n",
    "                certname = f'{certs[i,j]}'\n",
    "                tcr.add_picture(os.getcwd() + '/Source/Verifications/{}.jpg'.format(certname), height=Cm(11))\n",
    "\n",
    "except BaseException  as e:\n",
    "    beep(4)\n",
    "    easygui.msgbox('Failed to upload certificates: \\n' + str(e), title='Error!')\n",
    "    logger.error(str(e))\n",
    "    sys.exit()"
   ]
  },
  {
   "cell_type": "code",
   "execution_count": null,
   "metadata": {},
   "outputs": [],
   "source": [
    "# Find the place where to add Certificates\n",
    "indx=0\n",
    "for p in c.paragraphs:\n",
    "    if p.text.startswith('Приложение №4. Поверки '):\n",
    "        certindx = indx\n",
    "    indx+=1"
   ]
  },
  {
   "cell_type": "code",
   "execution_count": null,
   "metadata": {},
   "outputs": [],
   "source": [
    "# Move Certificates to it's place\n",
    "move_table_after(tct, c.paragraphs[certindx])"
   ]
  },
  {
   "cell_type": "code",
   "execution_count": null,
   "metadata": {},
   "outputs": [],
   "source": []
  },
  {
   "cell_type": "markdown",
   "metadata": {},
   "source": [
    "## Invoices"
   ]
  },
  {
   "cell_type": "code",
   "execution_count": null,
   "metadata": {},
   "outputs": [],
   "source": [
    "# Find Invoices start paragraphs\n",
    "indx=0\n",
    "for p in c.paragraphs:\n",
    "    if p.text.startswith('Приложение №5. Счета'):\n",
    "        invindx = indx\n",
    "    indx+=1"
   ]
  },
  {
   "cell_type": "code",
   "execution_count": null,
   "metadata": {},
   "outputs": [],
   "source": [
    "try:\n",
    "    # What if there are no invoices (no windows or no standard windows)\n",
    "    if standwind == 0 or wn.shape[0]<=1:\n",
    "        # Delete the paragraph and empty string\n",
    "        delete_paragraph(c.paragraphs[invindx-1])\n",
    "        delete_paragraph(c.paragraphs[invindx-1])\n",
    "    # What if there are invoices (windows)\n",
    "    else:\n",
    "        # Create table to put Invoices in\n",
    "        tit = c.add_table(2, 1)\n",
    "        # Insert Invoices to the table\n",
    "        # Iterate trough the Invoices\n",
    "        i = 0\n",
    "        for inv_file in os.listdir(os.getcwd() + '/Source/Invoices'):\n",
    "            i = i+1\n",
    "    #         invname = f'{inv_file}'\n",
    "            # Add paragraph to the cell and run it\n",
    "            tip = tit.rows[i-1].cells[0].add_paragraph()\n",
    "            tir = tip.add_run()\n",
    "            # Add picture to this paragraph\n",
    "            tir.add_picture(os.getcwd() + '/Source/Invoices/{}'.format(inv_file), height=Cm(24))\n",
    "            \n",
    "except BaseException  as e:\n",
    "    beep(4)\n",
    "    easygui.msgbox('Failed to upload invoices: \\n' + str(e), title='Error!')\n",
    "    logger.error(str(e))\n",
    "    sys.exit()    "
   ]
  },
  {
   "cell_type": "code",
   "execution_count": null,
   "metadata": {},
   "outputs": [],
   "source": [
    "print('  Done')"
   ]
  },
  {
   "cell_type": "code",
   "execution_count": null,
   "metadata": {},
   "outputs": [],
   "source": []
  },
  {
   "cell_type": "markdown",
   "metadata": {},
   "source": [
    "## Final edit and save"
   ]
  },
  {
   "cell_type": "code",
   "execution_count": null,
   "metadata": {},
   "outputs": [],
   "source": [
    "print('Saving the Сonclusion...')"
   ]
  },
  {
   "cell_type": "code",
   "execution_count": null,
   "metadata": {},
   "outputs": [],
   "source": [
    "# Put the data into Conclusion template\n",
    "context = {'contract' : ag['Значение'][0],\n",
    "           'date' : ag['Значение'][1],\n",
    "           'start_date' : ag['Значение'][2],\n",
    "           'end_date' : ag['Значение'][3],\n",
    "           'nstart_time' : ag['Значение'][10],\n",
    "           'nend_time' : ag['Значение'][11],\n",
    "           'start_time' : resstart,\n",
    "           'end_time' : resend,\n",
    "           'sum' : ag['Значение'][17],\n",
    "           'sum_words' : num2text(float(ag['Значение'][17])),\n",
    "           'address' : ag['Значение'][4],\n",
    "           'client' : ag['Значение'][7],    \n",
    "           'interesant' : interesant,\n",
    "           'temperature_inside' : ag['Значение'][12],\n",
    "           'humidity' : ag['Значение'][13],\n",
    "           'hygrometer' : ag['Значение'][14],\n",
    "           'temperature_outside' : ostemp}\n",
    "c.render(context)"
   ]
  },
  {
   "cell_type": "code",
   "execution_count": null,
   "metadata": {},
   "outputs": [],
   "source": [
    "# Update table of content\n",
    "namespace = \"{http://schemas.openxmlformats.org/wordprocessingml/2006/main}\"\n",
    "# add child to doc.settings element\n",
    "element_updatefields = lxml.etree.SubElement(c.settings.element, f\"{namespace}updateFields\")\n",
    "element_updatefields.set(f\"{namespace}val\", \"true\")"
   ]
  },
  {
   "cell_type": "code",
   "execution_count": null,
   "metadata": {},
   "outputs": [],
   "source": []
  },
  {
   "cell_type": "code",
   "execution_count": null,
   "metadata": {},
   "outputs": [],
   "source": [
    "# Save Conclusion\n",
    "c.save(os.getcwd() + '/{}/{}.docx'.format(fn, 'Conclusion '+ agnr))"
   ]
  },
  {
   "cell_type": "code",
   "execution_count": null,
   "metadata": {},
   "outputs": [],
   "source": [
    "# Convert conclusion to pdf\n",
    "wdFormatPDF = 17\n",
    "inputFile = os.path.abspath(os.getcwd() + '/{}/{}.docx'.format(fn, 'Conclusion '+ agnr))\n",
    "outputFile = os.path.abspath(os.getcwd() + '/{}/{}.pdf'.format(fn, 'Conclusion '+ agnr))\n",
    "word = win32com.client.Dispatch('Word.Application')\n",
    "doc = word.Documents.Open(inputFile)\n",
    "doc.SaveAs(outputFile, FileFormat=wdFormatPDF)\n",
    "doc.Close(-1)"
   ]
  },
  {
   "cell_type": "code",
   "execution_count": null,
   "metadata": {},
   "outputs": [],
   "source": []
  },
  {
   "cell_type": "code",
   "execution_count": null,
   "metadata": {},
   "outputs": [],
   "source": [
    "# Rename initial Smeta file if it is Creation\n",
    "if scrp == 'creation':\n",
    "    os.rename(os.getcwd() + '/{}/Estimate.xlsx'.format(fn), os.getcwd() + '/{}/{}.xlsx'.format(fn, 'Estimate '+ apnr))\n",
    "# Delete initial Smeta file if it is Correction\n",
    "if scrp == 'correction':\n",
    "    try:\n",
    "        os.remove(os.getcwd() + '/{}/Estimate.xlsx'.format(fn))\n",
    "    except:\n",
    "        print('no such file')"
   ]
  },
  {
   "cell_type": "code",
   "execution_count": null,
   "metadata": {},
   "outputs": [],
   "source": []
  },
  {
   "cell_type": "code",
   "execution_count": null,
   "metadata": {},
   "outputs": [],
   "source": [
    "# Copy all the files to a new folder\n",
    " # Remove the same folder if it exists\n",
    "if os.path.isdir(os.getcwd() + '/Сonclusions/{}'.format(name + ' ' + agnr)):\n",
    "    beep(4)\n",
    "    if easygui.buttonbox('A folder with the same name already exists, do you want to replace it?', 'Attention!!!', ('Yes', 'No, leave all files in the \"Work\" folder')) == 'Yes':\n",
    "        shutil.rmtree(os.getcwd() + '/Сonclusions/{}'.format(name + ' ' + agnr))\n",
    "        \n",
    "        # Copy files to a new folder\n",
    "        shutil.copytree(os.getcwd() + '/{}'.format(fn), os.getcwd() + '/Сonclusions/{}'.format(name + ' ' + agnr))\n",
    "        \n",
    "        # Delete all the files from the main working folder\n",
    "        while len(os.listdir(os.getcwd() + '/{}'.format(fn))) > 0:\n",
    "            try:\n",
    "                for files in os.listdir(os.getcwd() + '/{}'.format(fn)):\n",
    "                    os.remove(os.getcwd() + '/{}/{}'.format(fn, files))\n",
    "            except BaseException  as e:\n",
    "                beep(4)\n",
    "                easygui.msgbox('Failed to clean folder \"Work\". Close open files.: \\n' + str(e), title='Error!')\n",
    "else:\n",
    "    shutil.copytree(os.getcwd() + '/{}'.format(fn), os.getcwd() + '/Сonclusions/{}'.format(name + ' ' + agnr))\n",
    "\n",
    "    # Delete all the files from the main working folder\n",
    "    while len(os.listdir(os.getcwd() + '/{}'.format(fn))) > 0:\n",
    "        try:\n",
    "            for files in os.listdir(os.getcwd() + '/{}'.format(fn)):\n",
    "                os.remove(os.getcwd() + '/{}/{}'.format(fn, files))\n",
    "        except BaseException  as e:\n",
    "            beep(4)\n",
    "            easygui.msgbox('Failed to clean folder \"Work\". Close open files.: \\n' + str(e), title='Error!')"
   ]
  },
  {
   "cell_type": "code",
   "execution_count": null,
   "metadata": {},
   "outputs": [],
   "source": [
    "# Copy Smeta again to the main folder\n",
    "try:\n",
    "    # Copy initial file back to working folder\n",
    "    shutil.copy(os.getcwd() + '/Source/Estimate.xlsx', os.getcwd() + '/{}'.format(fn))\n",
    "\n",
    "except BaseException  as e:\n",
    "    beep(4)\n",
    "    easygui.msgbox('Failed to upload template \"Estimate\": \\n' + str(e), title='Error!')\n",
    "    logger.error(str(e))\n",
    "    sys.exit()"
   ]
  },
  {
   "cell_type": "code",
   "execution_count": null,
   "metadata": {},
   "outputs": [],
   "source": [
    "# Add sound\n",
    "if ag['Unnamed: 4'][4] > 0:\n",
    "    beep(ag['Unnamed: 4'][4])"
   ]
  },
  {
   "cell_type": "code",
   "execution_count": null,
   "metadata": {},
   "outputs": [],
   "source": [
    "print('  Conclusion for ' + name + ' has been drawn up!')"
   ]
  },
  {
   "cell_type": "code",
   "execution_count": null,
   "metadata": {},
   "outputs": [],
   "source": [
    "time.sleep(3)"
   ]
  }
 ],
 "metadata": {
  "kernelspec": {
   "display_name": "Python 3",
   "language": "python",
   "name": "python3"
  },
  "language_info": {
   "codemirror_mode": {
    "name": "ipython",
    "version": 3
   },
   "file_extension": ".py",
   "mimetype": "text/x-python",
   "name": "python",
   "nbconvert_exporter": "python",
   "pygments_lexer": "ipython3",
   "version": "3.7.7"
  }
 },
 "nbformat": 4,
 "nbformat_minor": 4
}
